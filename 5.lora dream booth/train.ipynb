{
 "cells": [
  {
   "cell_type": "code",
   "execution_count": 1,
   "id": "315ad307",
   "metadata": {},
   "outputs": [
    {
     "name": "stderr",
     "output_type": "stream",
     "text": [
      "Using custom data configuration lansinuote--diffusion.3.dream_boothimages-73d13cf74f9b46f0\n",
      "Found cached dataset parquet (/root/.cache/huggingface/datasets/lansinuote___parquet/lansinuote--diffusion.3.dream_boothimages-73d13cf74f9b46f0/0.0.0/2a3b91fbd88a2c90d1dbbb32b460cf621d31bd5b05b934492fdef7d8d6f236ec)\n"
     ]
    },
    {
     "data": {
      "text/plain": [
       "(Dataset({\n",
       "     features: ['image'],\n",
       "     num_rows: 5\n",
       " }),\n",
       " {'image': <PIL.JpegImagePlugin.JpegImageFile image mode=RGB size=2469x2558>})"
      ]
     },
     "execution_count": 1,
     "metadata": {},
     "output_type": "execute_result"
    }
   ],
   "source": [
    "from datasets import load_dataset\n",
    "\n",
    "#直接使用我处理好的数据集\n",
    "dataset = load_dataset(path='lansinuote/diffusion.3.dream_boothimages',\n",
    "                       split='train')\n",
    "\n",
    "dataset, dataset[0]"
   ]
  },
  {
   "cell_type": "code",
   "execution_count": 2,
   "id": "2af94061",
   "metadata": {},
   "outputs": [
    {
     "data": {
      "text/plain": [
       "(Dataset({\n",
       "     features: ['image'],\n",
       "     num_rows: 5\n",
       " }),\n",
       " {'image': tensor([[[ 0.7804,  0.7647,  0.7725,  ...,  0.7647,  0.7725,  0.7725],\n",
       "           [ 0.7569,  0.7725,  0.7725,  ...,  0.7647,  0.7569,  0.7569],\n",
       "           [ 0.7725,  0.7725,  0.7647,  ...,  0.7725,  0.7647,  0.7647],\n",
       "           ...,\n",
       "           [ 0.7098,  0.6941,  0.7020,  ...,  0.7098,  0.7098,  0.7020],\n",
       "           [ 0.7020,  0.7176,  0.7098,  ...,  0.7020,  0.7176,  0.7098],\n",
       "           [ 0.7176,  0.7333,  0.7098,  ...,  0.7020,  0.7176,  0.7020]],\n",
       "  \n",
       "          [[-0.1451, -0.1608, -0.1529,  ..., -0.1529, -0.1373, -0.1373],\n",
       "           [-0.1686, -0.1529, -0.1529,  ..., -0.1529, -0.1529, -0.1529],\n",
       "           [-0.1529, -0.1529, -0.1608,  ..., -0.1216, -0.1294, -0.1451],\n",
       "           ...,\n",
       "           [-0.2627, -0.2784, -0.2706,  ..., -0.2314, -0.2314, -0.2392],\n",
       "           [-0.2706, -0.2549, -0.2627,  ..., -0.2392, -0.2235, -0.2314],\n",
       "           [-0.2549, -0.2392, -0.2627,  ..., -0.2392, -0.2235, -0.2314]],\n",
       "  \n",
       "          [[-0.6314, -0.6471, -0.6392,  ..., -0.6392, -0.6235, -0.6235],\n",
       "           [-0.6549, -0.6392, -0.6392,  ..., -0.6471, -0.6471, -0.6471],\n",
       "           [-0.6392, -0.6392, -0.6471,  ..., -0.6471, -0.6471, -0.6392],\n",
       "           ...,\n",
       "           [-0.6627, -0.6784, -0.6706,  ..., -0.6471, -0.6471, -0.6549],\n",
       "           [-0.6706, -0.6549, -0.6627,  ..., -0.6549, -0.6392, -0.6471],\n",
       "           [-0.6549, -0.6392, -0.6627,  ..., -0.6549, -0.6392, -0.6549]]])})"
      ]
     },
     "execution_count": 2,
     "metadata": {},
     "output_type": "execute_result"
    }
   ],
   "source": [
    "import torchvision\n",
    "\n",
    "#数据增强\n",
    "compose = torchvision.transforms.Compose([\n",
    "    torchvision.transforms.Resize(\n",
    "        512, interpolation=torchvision.transforms.InterpolationMode.BILINEAR),\n",
    "    torchvision.transforms.RandomCrop(512),\n",
    "    torchvision.transforms.ToTensor(),\n",
    "    torchvision.transforms.Normalize([0.5], [0.5]),\n",
    "])\n",
    "\n",
    "\n",
    "def f(data):\n",
    "    image = [compose(i) for i in data['image']]\n",
    "    return {'image': image}\n",
    "\n",
    "\n",
    "dataset = dataset.with_transform(f)\n",
    "\n",
    "dataset, dataset[0]"
   ]
  },
  {
   "cell_type": "code",
   "execution_count": 3,
   "id": "c07c2a12",
   "metadata": {},
   "outputs": [
    {
     "data": {
      "text/plain": [
       "(5, torch.Size([1, 3, 512, 512]))"
      ]
     },
     "execution_count": 3,
     "metadata": {},
     "output_type": "execute_result"
    }
   ],
   "source": [
    "import torch\n",
    "\n",
    "def collate_fn(datas):\n",
    "    image = [i['image'] for i in datas]\n",
    "    return torch.stack(image, dim=0)\n",
    "\n",
    "\n",
    "loader = torch.utils.data.DataLoader(dataset,\n",
    "                                     batch_size=1,\n",
    "                                     shuffle=True,\n",
    "                                     collate_fn=collate_fn)\n",
    "\n",
    "len(loader), next(iter(loader)).shape"
   ]
  },
  {
   "cell_type": "code",
   "execution_count": 4,
   "id": "e0459d36",
   "metadata": {},
   "outputs": [
    {
     "name": "stdout",
     "output_type": "stream",
     "text": [
      "encoder 12306.048\n",
      "vae 8365.3863\n",
      "unet 85952.0964\n"
     ]
    }
   ],
   "source": [
    "from transformers.models.clip.modeling_clip import CLIPTextModel\n",
    "from diffusers import AutoencoderKL, UNet2DConditionModel\n",
    "\n",
    "checkpoint = 'runwayml/stable-diffusion-v1-5'\n",
    "\n",
    "encoder = CLIPTextModel.from_pretrained(checkpoint, subfolder='text_encoder')\n",
    "vae = AutoencoderKL.from_pretrained(checkpoint, subfolder='vae')\n",
    "unet = UNet2DConditionModel.from_pretrained(checkpoint, subfolder='unet')\n",
    "\n",
    "vae.requires_grad_(False)\n",
    "encoder.requires_grad_(False)\n",
    "unet.requires_grad_(False)\n",
    "\n",
    "\n",
    "def print_model_size(name, model):\n",
    "    print(name, sum(i.numel() for i in model.parameters()) / 10000)\n",
    "\n",
    "\n",
    "print_model_size('encoder', encoder)\n",
    "print_model_size('vae', vae)\n",
    "print_model_size('unet', unet)"
   ]
  },
  {
   "cell_type": "code",
   "execution_count": 5,
   "id": "c13480bb",
   "metadata": {},
   "outputs": [
    {
     "name": "stdout",
     "output_type": "stream",
     "text": [
      "down_blocks.0.attentions.0.transformer_blocks.0.attn1.processor 320 None\n",
      "down_blocks.0.attentions.0.transformer_blocks.0.attn2.processor 320 768\n",
      "down_blocks.0.attentions.1.transformer_blocks.0.attn1.processor 320 None\n",
      "down_blocks.0.attentions.1.transformer_blocks.0.attn2.processor 320 768\n",
      "down_blocks.1.attentions.0.transformer_blocks.0.attn1.processor 640 None\n",
      "down_blocks.1.attentions.0.transformer_blocks.0.attn2.processor 640 768\n",
      "down_blocks.1.attentions.1.transformer_blocks.0.attn1.processor 640 None\n",
      "down_blocks.1.attentions.1.transformer_blocks.0.attn2.processor 640 768\n",
      "down_blocks.2.attentions.0.transformer_blocks.0.attn1.processor 1280 None\n",
      "down_blocks.2.attentions.0.transformer_blocks.0.attn2.processor 1280 768\n",
      "down_blocks.2.attentions.1.transformer_blocks.0.attn1.processor 1280 None\n",
      "down_blocks.2.attentions.1.transformer_blocks.0.attn2.processor 1280 768\n",
      "up_blocks.1.attentions.0.transformer_blocks.0.attn1.processor 1280 None\n",
      "up_blocks.1.attentions.0.transformer_blocks.0.attn2.processor 1280 768\n",
      "up_blocks.1.attentions.1.transformer_blocks.0.attn1.processor 1280 None\n",
      "up_blocks.1.attentions.1.transformer_blocks.0.attn2.processor 1280 768\n",
      "up_blocks.1.attentions.2.transformer_blocks.0.attn1.processor 1280 None\n",
      "up_blocks.1.attentions.2.transformer_blocks.0.attn2.processor 1280 768\n",
      "up_blocks.2.attentions.0.transformer_blocks.0.attn1.processor 640 None\n",
      "up_blocks.2.attentions.0.transformer_blocks.0.attn2.processor 640 768\n",
      "up_blocks.2.attentions.1.transformer_blocks.0.attn1.processor 640 None\n",
      "up_blocks.2.attentions.1.transformer_blocks.0.attn2.processor 640 768\n",
      "up_blocks.2.attentions.2.transformer_blocks.0.attn1.processor 640 None\n",
      "up_blocks.2.attentions.2.transformer_blocks.0.attn2.processor 640 768\n",
      "up_blocks.3.attentions.0.transformer_blocks.0.attn1.processor 320 None\n",
      "up_blocks.3.attentions.0.transformer_blocks.0.attn2.processor 320 768\n",
      "up_blocks.3.attentions.1.transformer_blocks.0.attn1.processor 320 None\n",
      "up_blocks.3.attentions.1.transformer_blocks.0.attn2.processor 320 768\n",
      "up_blocks.3.attentions.2.transformer_blocks.0.attn1.processor 320 None\n",
      "up_blocks.3.attentions.2.transformer_blocks.0.attn2.processor 320 768\n",
      "mid_block.attentions.0.transformer_blocks.0.attn1.processor 1280 None\n",
      "mid_block.attentions.0.transformer_blocks.0.attn2.processor 1280 768\n"
     ]
    }
   ],
   "source": [
    "#这个类不想测了,总之就是在做注意力的调整\n",
    "from diffusers.models.cross_attention import LoRACrossAttnProcessor\n",
    "\n",
    "\n",
    "def set_processors():\n",
    "    processors = {}\n",
    "\n",
    "    #遍历unet的所有层,找出所有有set_processor属性的层,每一个都组装成lora层\n",
    "    for name in unet.attn_processors.keys():\n",
    "        #768 = unet.config.cross_attention_dim\n",
    "        cross_attention_dim = 768\n",
    "        if name.endswith('attn1.processor'):\n",
    "            cross_attention_dim = None\n",
    "\n",
    "        #1280 = unet.config.block_out_channels[-1]\n",
    "        hidden_size = 1280\n",
    "\n",
    "        if name.startswith('up_blocks'):\n",
    "            #取层名字中的第一个数字\n",
    "            #p_blocks.1.attentions.0.transformer_blocks.0.attn1.processor -> 1\n",
    "            block_id = int(name[10])\n",
    "            hidden_size = list(reversed(\n",
    "                unet.config.block_out_channels))[block_id]\n",
    "\n",
    "        if name.startswith('down_blocks'):\n",
    "            #取层名字中的第一个数字\n",
    "            #down_blocks.2.attentions.0.transformer_blocks.0.attn1.processor -> 2\n",
    "            block_id = int(name[12])\n",
    "            hidden_size = unet.config.block_out_channels[block_id]\n",
    "\n",
    "        processors[name] = LoRACrossAttnProcessor(hidden_size,\n",
    "                                                  cross_attention_dim)\n",
    "\n",
    "        print(name, hidden_size, cross_attention_dim)\n",
    "\n",
    "    #把上面组装好的字典,设置到unet的层当中\n",
    "    unet.set_attn_processor(processors)\n",
    "\n",
    "\n",
    "set_processors()"
   ]
  },
  {
   "cell_type": "code",
   "execution_count": 6,
   "id": "2690fbdf",
   "metadata": {},
   "outputs": [
    {
     "data": {
      "text/plain": [
       "32"
      ]
     },
     "execution_count": 6,
     "metadata": {},
     "output_type": "execute_result"
    }
   ],
   "source": [
    "lora_layers = torch.nn.ModuleList(unet.attn_processors.values())\n",
    "\n",
    "len(lora_layers)"
   ]
  },
  {
   "cell_type": "code",
   "execution_count": 7,
   "id": "c6f4b455",
   "metadata": {},
   "outputs": [
    {
     "data": {
      "text/plain": [
       "(CLIPTokenizer(name_or_path='runwayml/stable-diffusion-v1-5', vocab_size=49408, model_max_length=77, is_fast=False, padding_side='right', truncation_side='right', special_tokens={'bos_token': AddedToken(\"<|startoftext|>\", rstrip=False, lstrip=False, single_word=False, normalized=True), 'eos_token': AddedToken(\"<|endoftext|>\", rstrip=False, lstrip=False, single_word=False, normalized=True), 'unk_token': AddedToken(\"<|endoftext|>\", rstrip=False, lstrip=False, single_word=False, normalized=True), 'pad_token': '<|endoftext|>'}),\n",
       " DDPMScheduler {\n",
       "   \"_class_name\": \"DDPMScheduler\",\n",
       "   \"_diffusers_version\": \"0.12.1\",\n",
       "   \"beta_end\": 0.012,\n",
       "   \"beta_schedule\": \"scaled_linear\",\n",
       "   \"beta_start\": 0.00085,\n",
       "   \"clip_sample\": false,\n",
       "   \"num_train_timesteps\": 1000,\n",
       "   \"prediction_type\": \"epsilon\",\n",
       "   \"set_alpha_to_one\": false,\n",
       "   \"skip_prk_steps\": true,\n",
       "   \"steps_offset\": 1,\n",
       "   \"trained_betas\": null,\n",
       "   \"variance_type\": \"fixed_small\"\n",
       " },\n",
       " AdamW (\n",
       " Parameter Group 0\n",
       "     amsgrad: False\n",
       "     betas: (0.9, 0.999)\n",
       "     capturable: False\n",
       "     eps: 1e-08\n",
       "     foreach: None\n",
       "     lr: 0.0001\n",
       "     maximize: False\n",
       "     weight_decay: 0.01\n",
       " ),\n",
       " MSELoss())"
      ]
     },
     "execution_count": 7,
     "metadata": {},
     "output_type": "execute_result"
    }
   ],
   "source": [
    "from diffusers import DDPMScheduler\n",
    "from transformers import AutoTokenizer\n",
    "\n",
    "tokenizer = AutoTokenizer.from_pretrained(checkpoint,\n",
    "                                          subfolder='tokenizer',\n",
    "                                          use_fast=False)\n",
    "\n",
    "scheduler = DDPMScheduler.from_pretrained(checkpoint, subfolder='scheduler')\n",
    "\n",
    "optimizer = torch.optim.AdamW(lora_layers.parameters(),\n",
    "                              lr=1e-4,\n",
    "                              betas=(0.9, 0.999),\n",
    "                              weight_decay=0.01,\n",
    "                              eps=1e-8)\n",
    "\n",
    "criterion = torch.nn.MSELoss()\n",
    "\n",
    "tokenizer, scheduler, optimizer, criterion"
   ]
  },
  {
   "cell_type": "code",
   "execution_count": 8,
   "id": "b3effea6",
   "metadata": {},
   "outputs": [
    {
     "data": {
      "text/plain": [
       "tensor(0.0348, grad_fn=<MseLossBackward0>)"
      ]
     },
     "execution_count": 8,
     "metadata": {},
     "output_type": "execute_result"
    }
   ],
   "source": [
    "def get_loss(data):\n",
    "    device = data.device\n",
    "\n",
    "    #只需要input ids就可以了\n",
    "    #全程都是一句话,其实只需要编码一次即可\n",
    "    #77 = tokenizer.model_max_length\n",
    "    input_ids = tokenizer('a photo of sks dog',\n",
    "                          truncation=True,\n",
    "                          padding='max_length',\n",
    "                          max_length=77,\n",
    "                          return_tensors='pt')['input_ids']\n",
    "\n",
    "    #编码文字,由于encoder不训练,其实这一步也可以只运算一次\n",
    "    #[1, 77] -> [1, 77, 768]\n",
    "    out_encoder = encoder(input_ids.to(device))[0]\n",
    "\n",
    "    #vae计算特征图\n",
    "    #[1, 3, 512, 512] -> [1, 4, 64, 64]\n",
    "    out_vae = vae.encode(data).latent_dist.sample().detach()\n",
    "\n",
    "    #0.18215 = vae.config.scaling_factor\n",
    "    out_vae = out_vae * 0.18215\n",
    "\n",
    "    #随机噪声\n",
    "    #[1, 4, 64, 64]\n",
    "    noise = torch.randn_like(out_vae)\n",
    "\n",
    "    #随机噪声步\n",
    "    #1000 = scheduler.config.num_train_timesteps\n",
    "    #1 = b\n",
    "    noise_step = torch.randint(0, 1000, (1, ), device=device).long()\n",
    "\n",
    "    #添加噪声\n",
    "    #[1, 4, 64, 64]\n",
    "    out_vae_noise = scheduler.add_noise(out_vae, noise, noise_step)\n",
    "\n",
    "    #unet从噪声图中把噪声计算出来\n",
    "    #[1, 4, 64, 64],[1, 77, 768] -> [1, 4, 64, 64]\n",
    "    out_unet = unet(out_vae_noise, noise_step, out_encoder).sample\n",
    "\n",
    "    return criterion(out_unet, noise)\n",
    "\n",
    "\n",
    "get_loss(torch.randn(1, 3, 512, 512))"
   ]
  },
  {
   "cell_type": "code",
   "execution_count": 9,
   "id": "13a8c245",
   "metadata": {},
   "outputs": [
    {
     "name": "stdout",
     "output_type": "stream",
     "text": [
      "0 0.3670004606246948\n",
      "20 10.45627648581285\n",
      "40 9.188310690922663\n",
      "60 7.809588600997813\n",
      "80 9.303583267959766\n",
      "100 11.15790241828654\n",
      "120 7.788689624285325\n",
      "140 10.951385688968003\n",
      "160 7.679351598257199\n",
      "180 8.150683714775369\n",
      "200 10.188504346180707\n",
      "220 8.693295795586891\n",
      "240 6.545399873633869\n",
      "260 8.477286474080756\n",
      "280 10.255770185613073\n",
      "300 7.34097321680747\n",
      "320 7.778350460110232\n",
      "340 7.739824238466099\n",
      "360 8.069359936169349\n",
      "380 6.185638143564574\n"
     ]
    }
   ],
   "source": [
    "from diffusers import DiffusionPipeline\n",
    "\n",
    "\n",
    "def train():\n",
    "    device = 'cuda' if torch.cuda.is_available() else 'cpu'\n",
    "    unet.to(device)\n",
    "    vae.to(device)\n",
    "    encoder.to(device)\n",
    "    unet.train()\n",
    "\n",
    "    loss_sum = 0\n",
    "    for epoch in range(400):\n",
    "        for i, data in enumerate(loader):\n",
    "            loss = get_loss(data.to(device))\n",
    "\n",
    "            loss.backward()\n",
    "            torch.nn.utils.clip_grad_norm_(lora_layers.parameters(), 1.0)\n",
    "            optimizer.step()\n",
    "            optimizer.zero_grad()\n",
    "\n",
    "            loss_sum += loss.item()\n",
    "\n",
    "        if epoch % 20 == 0:\n",
    "            print(epoch, loss_sum)\n",
    "            loss_sum = 0\n",
    "\n",
    "    unet.save_attn_procs('./save')\n",
    "\n",
    "\n",
    "train()"
   ]
  }
 ],
 "metadata": {
  "kernelspec": {
   "display_name": "Python 3 (ipykernel)",
   "language": "python",
   "name": "python3"
  },
  "language_info": {
   "codemirror_mode": {
    "name": "ipython",
    "version": 3
   },
   "file_extension": ".py",
   "mimetype": "text/x-python",
   "name": "python",
   "nbconvert_exporter": "python",
   "pygments_lexer": "ipython3",
   "version": "3.9.13"
  }
 },
 "nbformat": 4,
 "nbformat_minor": 5
}
